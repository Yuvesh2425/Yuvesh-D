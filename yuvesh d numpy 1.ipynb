{
 "cells": [
  {
   "cell_type": "code",
   "execution_count": 1,
   "id": "ab120830",
   "metadata": {},
   "outputs": [
    {
     "name": "stdout",
     "output_type": "stream",
     "text": [
      "[1 2 3 4 5]\n"
     ]
    }
   ],
   "source": [
    "import numpy as np\n",
    "a=np.array([1,2,3,4,5])\n",
    "print(a)"
   ]
  },
  {
   "cell_type": "code",
   "execution_count": 4,
   "id": "5f613ed7",
   "metadata": {},
   "outputs": [
    {
     "name": "stdout",
     "output_type": "stream",
     "text": [
      "[[1 2 3 4]\n",
      " [5 6 7 8]]\n"
     ]
    }
   ],
   "source": [
    "import numpy as np\n",
    "b=np.array([[1,2,3,4],[5,6,7,8]])\n",
    "print(b)"
   ]
  },
  {
   "cell_type": "code",
   "execution_count": 6,
   "id": "e51d0673",
   "metadata": {},
   "outputs": [
    {
     "name": "stdout",
     "output_type": "stream",
     "text": [
      "[[0. 0. 0. 0. 0.]\n",
      " [0. 0. 0. 0. 0.]\n",
      " [0. 0. 0. 0. 0.]]\n"
     ]
    }
   ],
   "source": [
    "import numpy as np\n",
    "c=np.zeros((3,5))\n",
    "print(c)"
   ]
  },
  {
   "cell_type": "code",
   "execution_count": 9,
   "id": "116dc2da",
   "metadata": {},
   "outputs": [
    {
     "name": "stdout",
     "output_type": "stream",
     "text": [
      "[[0.22239159 0.18762239 0.57008013]\n",
      " [0.35281042 0.65734984 0.64097429]\n",
      " [0.97754542 0.70151059 0.87730464]]\n"
     ]
    }
   ],
   "source": [
    "import numpy as np\n",
    "d=np.random.random((3,3))\n",
    "print(d)"
   ]
  },
  {
   "cell_type": "code",
   "execution_count": 10,
   "id": "b19a002f",
   "metadata": {},
   "outputs": [
    {
     "name": "stdout",
     "output_type": "stream",
     "text": [
      "[ 0  5 10 15 20 25]\n"
     ]
    }
   ],
   "source": [
    "import numpy as np\n",
    "e=np.arange(0,30,5)\n",
    "print(e)"
   ]
  },
  {
   "cell_type": "raw",
   "id": "87c3b497",
   "metadata": {},
   "source": [
    "import numpy as np\n",
    "arr=np.array([[1,2,3,4],[5,6,7,8],[1,2,0,1]])\n",
    "new arr=arr.reshape(4,3)\n",
    "print(arr)\n",
    "print(newarr)"
   ]
  },
  {
   "cell_type": "code",
   "execution_count": 2,
   "id": "b08ff78c",
   "metadata": {},
   "outputs": [
    {
     "name": "stdout",
     "output_type": "stream",
     "text": [
      "[[1 2 3 4]\n",
      " [5 6 7 8]\n",
      " [1 2 0 1]]\n",
      "[[1 2 3]\n",
      " [4 5 6]\n",
      " [7 8 1]\n",
      " [2 0 1]]\n"
     ]
    }
   ],
   "source": [
    "import numpy as np\n",
    "arr=np.array([[1,2,3,4],[5,6,7,8],[1,2,0,1]])\n",
    "newarr=arr.reshape(4,3)\n",
    "print(arr)\n",
    "print(newarr)"
   ]
  },
  {
   "cell_type": "code",
   "execution_count": 4,
   "id": "d09e7ffd",
   "metadata": {},
   "outputs": [
    {
     "name": "stdout",
     "output_type": "stream",
     "text": [
      "[[1 2 3 4]\n",
      " [5 6 7 8]\n",
      " [1 2 0 1]]\n",
      "[1 2 3 4 5 6 7 8 1 2 0 1]\n"
     ]
    }
   ],
   "source": [
    "import numpy as np\n",
    "flat=arr.flatten()\n",
    "print(arr)\n",
    "print(flat)"
   ]
  },
  {
   "cell_type": "code",
   "execution_count": 5,
   "id": "e62c429a",
   "metadata": {},
   "outputs": [
    {
     "name": "stdout",
     "output_type": "stream",
     "text": [
      "(3, 4)\n",
      "12\n",
      "int64\n",
      "2\n"
     ]
    }
   ],
   "source": [
    "print(arr.shape)\n",
    "print(arr.size)\n",
    "print(arr.dtype)\n",
    "print(arr.ndim)"
   ]
  },
  {
   "cell_type": "code",
   "execution_count": 3,
   "id": "52dc2d93",
   "metadata": {},
   "outputs": [
    {
     "name": "stdout",
     "output_type": "stream",
     "text": [
      "\n",
      " converted array element:\n",
      " [[ 1.  2.  3.  4.]\n",
      " [10. 20. 30. 40.]\n",
      " [11. 22. 33. 44.]]\n",
      "converted array type: int64\n",
      "\n",
      " size of array:\n",
      " 3\n"
     ]
    }
   ],
   "source": [
    "import numpy as np\n",
    "arr=np.array([[1,2,3,4],[10,20,30,40],[11,22,33,44]])\n",
    "newtype=arr.astype('f')\n",
    "print(\"\\n converted array element:\\n\",newtype)\n",
    "print(\"converted array type:\",arr.dtype)\n",
    "size=len(arr)\n",
    "print(\"\\n size of array:\\n\",size)\n"
   ]
  },
  {
   "cell_type": "code",
   "execution_count": null,
   "id": "73f591c9",
   "metadata": {},
   "outputs": [],
   "source": []
  },
  {
   "cell_type": "code",
   "execution_count": null,
   "id": "2c62d096",
   "metadata": {},
   "outputs": [],
   "source": []
  },
  {
   "cell_type": "code",
   "execution_count": null,
   "id": "625edd05",
   "metadata": {},
   "outputs": [],
   "source": []
  },
  {
   "cell_type": "code",
   "execution_count": null,
   "id": "858f388d",
   "metadata": {},
   "outputs": [],
   "source": []
  }
 ],
 "metadata": {
  "kernelspec": {
   "display_name": "Python 3 (ipykernel)",
   "language": "python",
   "name": "python3"
  },
  "language_info": {
   "codemirror_mode": {
    "name": "ipython",
    "version": 3
   },
   "file_extension": ".py",
   "mimetype": "text/x-python",
   "name": "python",
   "nbconvert_exporter": "python",
   "pygments_lexer": "ipython3",
   "version": "3.11.5"
  }
 },
 "nbformat": 4,
 "nbformat_minor": 5
}
