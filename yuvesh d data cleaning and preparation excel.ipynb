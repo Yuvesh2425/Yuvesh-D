{
 "cells": [
  {
   "cell_type": "code",
   "execution_count": 2,
   "id": "c787cae8",
   "metadata": {},
   "outputs": [
    {
     "name": "stdout",
     "output_type": "stream",
     "text": [
      "original data:\n",
      "\n",
      "    Emp ID Name Prefix First Name  ...       Mother's Name  \\\n",
      "0   677509        Drs.       Lois  ...        Helen Walker   \n",
      "1   940761         Ms.     Brenda  ...       Judy Robinson   \n",
      "2   428945         Dr.        Joe  ...  Stephanie Robinson   \n",
      "3   408351        Drs.      Diane  ...      Michelle Evans   \n",
      "4   193819         Mr.   Benjamin  ...   Elizabeth Russell   \n",
      "..     ...         ...        ...  ...                 ...   \n",
      "95  639892         Mr.       Jose  ...           Anna Hill   \n",
      "96  704709         Dr.     Harold  ...       Pamela Nelson   \n",
      "97  461593         Ms.     Nicole  ...          Julia Ward   \n",
      "98  392491        Mrs.    Theresa  ...   Jacqueline Murphy   \n",
      "99  495141        Drs.      Tammy  ...        Brenda Young   \n",
      "\n",
      "   Mother's Maiden Name  Salary  \n",
      "0                 Lewis  168251  \n",
      "1                 Perry   51063  \n",
      "2                Taylor   50155  \n",
      "3                 Allen  180294  \n",
      "4                Nelson  117642  \n",
      "..                  ...     ...  \n",
      "95                Hayes  129774  \n",
      "96                Smith  156194  \n",
      "97                  Lee   95673  \n",
      "98             Peterson   51015  \n",
      "99             Robinson   93650  \n",
      "\n",
      "[100 rows x 11 columns]\n"
     ]
    }
   ],
   "source": [
    "import pandas as pd\n",
    "pd.set_option('display.max_columns',6)\n",
    "print(\"original data:\\n\")\n",
    "df=pd.read_excel(\"/Users/student/Downloads/employees-details-_1_.xlsx\")\n",
    "print(df)"
   ]
  },
  {
   "cell_type": "code",
   "execution_count": 3,
   "id": "62ed0959",
   "metadata": {},
   "outputs": [
    {
     "name": "stdout",
     "output_type": "stream",
     "text": [
      "\n",
      " Replace Value:\n",
      "    Emp ID Name Prefix First Name  ...       Mother's Name  \\\n",
      "0   677509        Drs.       Lois  ...        Helen Walker   \n",
      "1   940761         Ms.     Brenda  ...       Judy Robinson   \n",
      "2   428945         Dr.        Joe  ...  Stephanie Robinson   \n",
      "3   408351        Drs.      Diane  ...      Michelle Evans   \n",
      "4   193819         Mr.   Benjamin  ...   Elizabeth Russell   \n",
      "..     ...         ...        ...  ...                 ...   \n",
      "95  639892         Mr.       Jose  ...           Anna Hill   \n",
      "96  704709         Dr.     Harold  ...       Pamela Nelson   \n",
      "97  461593         Ms.     Nicole  ...          Julia Ward   \n",
      "98  392491        Mrs.    Theresa  ...   Jacqueline Murphy   \n",
      "99  495141        Drs.      Tammy  ...        Brenda Young   \n",
      "\n",
      "   Mother's Maiden Name  Salary  \n",
      "0                 Lewis  168251  \n",
      "1                 Perry   51063  \n",
      "2                Taylor   50155  \n",
      "3                 Allen  180294  \n",
      "4                Nelson  117642  \n",
      "..                  ...     ...  \n",
      "95                Hayes  129774  \n",
      "96                Smith  156194  \n",
      "97                  Lee   95673  \n",
      "98             Peterson   51015  \n",
      "99             Robinson   93650  \n",
      "\n",
      "[100 rows x 11 columns]\n",
      "\n",
      " Updated list\n",
      "\n"
     ]
    }
   ],
   "source": [
    "f=df['First Name'].str.strip()\n",
    "f.to_excel(\"/Users/student/Downloads/data 1.xlsx\")\n",
    "print(\"\\n Replace Value:\")\n",
    "k=df.fillna(method='pad')\n",
    "print(k)\n",
    "print(\"\\n Updated list\\n\")\n",
    "k.to_excel(\"/Users/student/Downloads/data 1.xlsx\")"
   ]
  },
  {
   "cell_type": "code",
   "execution_count": 4,
   "id": "db8ae0d1",
   "metadata": {},
   "outputs": [
    {
     "name": "stdout",
     "output_type": "stream",
     "text": [
      "\n",
      " Drop one particular column and its values:\n",
      "\n",
      "    Emp ID Name Prefix First Name  ...       Mother's Name  \\\n",
      "0   677509        Drs.       Lois  ...        Helen Walker   \n",
      "1   940761         Ms.     Brenda  ...       Judy Robinson   \n",
      "2   428945         Dr.        Joe  ...  Stephanie Robinson   \n",
      "3   408351        Drs.      Diane  ...      Michelle Evans   \n",
      "4   193819         Mr.   Benjamin  ...   Elizabeth Russell   \n",
      "..     ...         ...        ...  ...                 ...   \n",
      "95  639892         Mr.       Jose  ...           Anna Hill   \n",
      "96  704709         Dr.     Harold  ...       Pamela Nelson   \n",
      "97  461593         Ms.     Nicole  ...          Julia Ward   \n",
      "98  392491        Mrs.    Theresa  ...   Jacqueline Murphy   \n",
      "99  495141        Drs.      Tammy  ...        Brenda Young   \n",
      "\n",
      "   Mother's Maiden Name  Salary  \n",
      "0                 Lewis  168251  \n",
      "1                 Perry   51063  \n",
      "2                Taylor   50155  \n",
      "3                 Allen  180294  \n",
      "4                Nelson  117642  \n",
      "..                  ...     ...  \n",
      "95                Hayes  129774  \n",
      "96                Smith  156194  \n",
      "97                  Lee   95673  \n",
      "98             Peterson   51015  \n",
      "99             Robinson   93650  \n",
      "\n",
      "[100 rows x 10 columns]\n",
      "\n",
      " updated list\n",
      "\n"
     ]
    }
   ],
   "source": [
    "print(\"\\n Drop one particular column and its values:\\n\")\n",
    "k.drop([\"Gender\"],axis=1,inplace=True)\n",
    "print(k)\n",
    "print(\"\\n updated list\\n\")\n",
    "k.to_excel(\"/Users/student/Downloads/Performance.xlsx\")"
   ]
  },
  {
   "cell_type": "code",
   "execution_count": null,
   "id": "69e1ca7d",
   "metadata": {},
   "outputs": [],
   "source": []
  }
 ],
 "metadata": {
  "kernelspec": {
   "display_name": "Python 3 (ipykernel)",
   "language": "python",
   "name": "python3"
  },
  "language_info": {
   "codemirror_mode": {
    "name": "ipython",
    "version": 3
   },
   "file_extension": ".py",
   "mimetype": "text/x-python",
   "name": "python",
   "nbconvert_exporter": "python",
   "pygments_lexer": "ipython3",
   "version": "3.11.5"
  }
 },
 "nbformat": 4,
 "nbformat_minor": 5
}
