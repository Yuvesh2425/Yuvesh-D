{
 "cells": [
  {
   "cell_type": "code",
   "execution_count": 21,
   "id": "625d5557",
   "metadata": {},
   "outputs": [],
   "source": [
    "f=open(\"/users/student/Downloads/ data.txt\",\"w\")\n",
    "f.write(\"sai\\n\")\n",
    "f.write(\"raj\\n\")\n",
    "f.write(\"john\\n\")\n",
    "f.close()"
   ]
  },
  {
   "cell_type": "code",
   "execution_count": 22,
   "id": "b8610ae7",
   "metadata": {},
   "outputs": [
    {
     "name": "stdout",
     "output_type": "stream",
     "text": [
      "sai\n",
      "\n",
      "raj\n",
      "\n",
      "john\n",
      "\n"
     ]
    }
   ],
   "source": [
    "a=open(\"/users/student/Downloads/ data.txt\",\"r\")\n",
    "print(a.readline())\n",
    "print(a.readline())\n",
    "print(a.readline())\n",
    "a.close()"
   ]
  },
  {
   "cell_type": "code",
   "execution_count": 23,
   "id": "9a91b9d8",
   "metadata": {},
   "outputs": [],
   "source": [
    "b=open(\"/Users/student/Downloads/ data.txt\",\"a\")\n",
    "b.write(\"ram\\n\")\n",
    "b.write(\"kumar\\n\")\n",
    "b.close()\n"
   ]
  },
  {
   "cell_type": "code",
   "execution_count": 24,
   "id": "d805a454",
   "metadata": {
    "scrolled": true
   },
   "outputs": [
    {
     "name": "stdout",
     "output_type": "stream",
     "text": [
      "sai\n",
      "raj\n",
      "john\n",
      "ram\n",
      "kumar\n",
      "\n"
     ]
    }
   ],
   "source": [
    "c=open(\"/Users/student/Downloads/ data.txt\",\"r\")\n",
    "print(c.read())\n",
    "c.close()"
   ]
  },
  {
   "cell_type": "code",
   "execution_count": 25,
   "id": "72715fdb",
   "metadata": {},
   "outputs": [
    {
     "name": "stdout",
     "output_type": "stream",
     "text": [
      "ram\n",
      "\n"
     ]
    }
   ],
   "source": [
    "with open(\"/Users/student/Downloads/ data1.txt\",\"r\")as file:\n",
    "    lines=file.readline()\n",
    "    print(lines)\n"
   ]
  },
  {
   "cell_type": "code",
   "execution_count": 1,
   "id": "3ff9b565",
   "metadata": {},
   "outputs": [
    {
     "name": "stdout",
     "output_type": "stream",
     "text": [
      "london\n"
     ]
    }
   ],
   "source": [
    "import json\n",
    "x='{\"name\":\"raj\",\"age\":20,\"city\":\"london\"}'\n",
    "y=json.loads(x)\n",
    "print(y[\"city\"])"
   ]
  },
  {
   "cell_type": "code",
   "execution_count": 2,
   "id": "9ad49297",
   "metadata": {},
   "outputs": [
    {
     "name": "stdout",
     "output_type": "stream",
     "text": [
      "\"{\\\"name\\\":\\\"raj\\\",\\\"age\\\";20,\\\"city\\\":\\\"london\\\"}\"\n"
     ]
    }
   ],
   "source": [
    "x='{\"name\":\"raj\",\"age\";20,\"city\":\"london\"}'\n",
    "y=json.dumps(x)\n",
    "print(y)"
   ]
  },
  {
   "cell_type": "code",
   "execution_count": null,
   "id": "cb5733f6",
   "metadata": {},
   "outputs": [],
   "source": []
  }
 ],
 "metadata": {
  "kernelspec": {
   "display_name": "Python 3 (ipykernel)",
   "language": "python",
   "name": "python3"
  },
  "language_info": {
   "codemirror_mode": {
    "name": "ipython",
    "version": 3
   },
   "file_extension": ".py",
   "mimetype": "text/x-python",
   "name": "python",
   "nbconvert_exporter": "python",
   "pygments_lexer": "ipython3",
   "version": "3.11.5"
  }
 },
 "nbformat": 4,
 "nbformat_minor": 5
}
