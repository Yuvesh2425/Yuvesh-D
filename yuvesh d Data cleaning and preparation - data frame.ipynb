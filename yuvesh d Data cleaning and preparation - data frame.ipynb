{
 "cells": [
  {
   "cell_type": "code",
   "execution_count": 6,
   "id": "3078b54e",
   "metadata": {},
   "outputs": [
    {
     "name": "stdout",
     "output_type": "stream",
     "text": [
      "original DataFrame with NaN\n",
      "         one       two     three\n",
      "a  0.789203  0.521936  0.044906\n",
      "b       NaN       NaN       NaN\n",
      "c -0.172619 -0.733378  0.419832\n",
      "d -1.092088 -0.565460 -0.831056\n",
      "e       NaN       NaN       NaN\n",
      "f  0.362957 -0.424952 -1.973967\n",
      "\n",
      "\n",
      "Dropped DataFrame\n",
      "         one       two     three\n",
      "a  0.789203  0.521936  0.044906\n",
      "c -0.172619 -0.733378  0.419832\n",
      "d -1.092088 -0.565460 -0.831056\n",
      "f  0.362957 -0.424952 -1.973967\n",
      "\n",
      "\n"
     ]
    }
   ],
   "source": [
    "import pandas as pd\n",
    "import numpy as np\n",
    "df=pd.DataFrame(np.random.randn(4,3),index=['a','c','d','f'],columns=['one','two','three'])\n",
    "df=df.reindex(['a','b','c','d','e','f'])\n",
    "print(\"original DataFrame with NaN\\n\",df)\n",
    "print(\"\\n\")\n",
    "print(\"Dropped DataFrame\\n\",df.dropna())\n",
    "print(\"\\n\")\n"
   ]
  },
  {
   "cell_type": "code",
   "execution_count": 8,
   "id": "ba020218",
   "metadata": {},
   "outputs": [
    {
     "name": "stdout",
     "output_type": "stream",
     "text": [
      "original DataFrame :\n",
      "         one       two     three\n",
      "a  0.138222  0.482805 -0.425730\n",
      "b       NaN       NaN       NaN\n",
      "c -0.071793 -2.002654  0.439104\n",
      "\n",
      "\n",
      "NaN replaced with '0'\n",
      "         one       two     three\n",
      "a  0.138222  0.482805 -0.425730\n",
      "b  0.000000  0.000000  0.000000\n",
      "c -0.071793 -2.002654  0.439104\n",
      "\n",
      "\n"
     ]
    }
   ],
   "source": [
    "import pandas as pd\n",
    "import numpy as np\n",
    "df=pd.DataFrame(np.random.randn(4,3),index=['a','c','d','f'],columns=['one','two','three'])\n",
    "df=df.reindex(['a','b','c'])\n",
    "print(\"original DataFrame :\\n\",df)\n",
    "print(\"\\n\")\n",
    "print(\"NaN replaced with '0'\\n\",df.fillna(0))\n",
    "print(\"\\n\")"
   ]
  },
  {
   "cell_type": "code",
   "execution_count": 12,
   "id": "693d4b89",
   "metadata": {},
   "outputs": [
    {
     "name": "stdout",
     "output_type": "stream",
     "text": [
      "original DataFrame:\n",
      "                     one                  two\n",
      "0  [10, 20, 80, 40, 50]  [60, 70, 80, 0, 10]\n",
      "\n",
      " DataFrame with replaced values:\n",
      "\n",
      "                    one                  two\n",
      "0  [10, 20, 80, 40, 50]  [60, 70, 80, 0, 10]\n"
     ]
    }
   ],
   "source": [
    "df=pd.DataFrame([{'one':[10,20,80,40,50],'two':[60,70,80,0,10]}])\n",
    "print(\"original DataFrame:\\n\",df)\n",
    "print(\"\\n DataFrame with replaced values:\\n\")\n",
    "print(df.replace({10:5,80:3}))\n"
   ]
  },
  {
   "cell_type": "code",
   "execution_count": 15,
   "id": "09746244",
   "metadata": {},
   "outputs": [
    {
     "name": "stdout",
     "output_type": "stream",
     "text": [
      "original DataFrame:\n",
      "         one       two     three\n",
      "a  0.004182 -0.337857  1.056923\n",
      "b       NaN       NaN       NaN\n",
      "c  0.772035 -0.175059  1.665330\n",
      "d -0.474541 -0.394188 -0.632814\n",
      "e       NaN       NaN       NaN\n",
      "f -0.158166  2.473431  0.527725\n",
      "\n",
      " NaN.with True fill:\n",
      "\n",
      "a    False\n",
      "b     True\n",
      "c    False\n",
      "d    False\n",
      "e     True\n",
      "f    False\n",
      "Name: one, dtype: bool\n"
     ]
    }
   ],
   "source": [
    "df=pd.DataFrame(np.random.randn(4,3),index=['a','c','d','f'],columns=['one','two','three'])\n",
    "df=df.reindex(['a','b','c','d','e','f'])\n",
    "print(\"original DataFrame:\\n\",df)\n",
    "print(\"\\n NaN.with True fill:\\n\")\n",
    "print(df['one'].isnull())"
   ]
  },
  {
   "cell_type": "code",
   "execution_count": 16,
   "id": "27fe5394",
   "metadata": {},
   "outputs": [
    {
     "name": "stdout",
     "output_type": "stream",
     "text": [
      "\n",
      " NaN-filled with Bachground values:\n",
      "\n",
      "        one       two     three\n",
      "a  0.004182 -0.337857  1.056923\n",
      "b  0.772035 -0.175059  1.665330\n",
      "c  0.772035 -0.175059  1.665330\n",
      "d -0.474541 -0.394188 -0.632814\n",
      "e -0.158166  2.473431  0.527725\n",
      "f -0.158166  2.473431  0.527725\n"
     ]
    }
   ],
   "source": [
    "print(\"\\n NaN-filled with Bachground values:\\n\")\n",
    "print(df.fillna(method='bfill'))"
   ]
  },
  {
   "cell_type": "code",
   "execution_count": 17,
   "id": "c1abb604",
   "metadata": {},
   "outputs": [
    {
     "name": "stdout",
     "output_type": "stream",
     "text": [
      "        one       two     three\n",
      "a  0.004182 -0.337857  1.056923\n",
      "b  0.772035 -0.175059  1.665330\n",
      "c  0.772035 -0.175059  1.665330\n",
      "d -0.474541 -0.394188 -0.632814\n",
      "e -0.158166  2.473431  0.527725\n",
      "f -0.158166  2.473431  0.527725\n",
      "        one       two     three\n",
      "a  0.004182 -0.337857  1.056923\n",
      "b  0.004182 -0.337857  1.056923\n",
      "c  0.772035 -0.175059  1.665330\n",
      "d -0.474541 -0.394188 -0.632814\n",
      "e -0.474541 -0.394188 -0.632814\n",
      "f -0.158166  2.473431  0.527725\n"
     ]
    }
   ],
   "source": [
    "print(df.bfill())\n",
    "print(df.ffill())"
   ]
  },
  {
   "cell_type": "code",
   "execution_count": null,
   "id": "23e560e4",
   "metadata": {},
   "outputs": [],
   "source": []
  }
 ],
 "metadata": {
  "kernelspec": {
   "display_name": "Python 3 (ipykernel)",
   "language": "python",
   "name": "python3"
  },
  "language_info": {
   "codemirror_mode": {
    "name": "ipython",
    "version": 3
   },
   "file_extension": ".py",
   "mimetype": "text/x-python",
   "name": "python",
   "nbconvert_exporter": "python",
   "pygments_lexer": "ipython3",
   "version": "3.11.5"
  }
 },
 "nbformat": 4,
 "nbformat_minor": 5
}
